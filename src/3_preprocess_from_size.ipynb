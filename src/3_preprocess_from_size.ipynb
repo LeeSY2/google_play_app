{
 "cells": [
  {
   "cell_type": "code",
   "execution_count": 10,
   "metadata": {},
   "outputs": [
    {
     "name": "stdout",
     "output_type": "stream",
     "text": [
      "All Required Installed\n"
     ]
    }
   ],
   "source": [
    "from lib import check_libs_installed, get_processing_folder_path\n",
    "\n",
    "check_libs_installed()"
   ]
  },
  {
   "cell_type": "code",
   "execution_count": 11,
   "metadata": {},
   "outputs": [],
   "source": [
    "import pandas as pd\n",
    "import numpy as np\n",
    "from const import KB,MB,GB"
   ]
  },
  {
   "cell_type": "code",
   "execution_count": 12,
   "metadata": {},
   "outputs": [],
   "source": [
    "df = pd.read_csv(get_processing_folder_path('processed_na.csv'))"
   ]
  },
  {
   "cell_type": "code",
   "execution_count": 13,
   "metadata": {},
   "outputs": [
    {
     "data": {
      "text/html": [
       "<div>\n",
       "<style scoped>\n",
       "    .dataframe tbody tr th:only-of-type {\n",
       "        vertical-align: middle;\n",
       "    }\n",
       "\n",
       "    .dataframe tbody tr th {\n",
       "        vertical-align: top;\n",
       "    }\n",
       "\n",
       "    .dataframe thead th {\n",
       "        text-align: right;\n",
       "    }\n",
       "</style>\n",
       "<table border=\"1\" class=\"dataframe\">\n",
       "  <thead>\n",
       "    <tr style=\"text-align: right;\">\n",
       "      <th></th>\n",
       "      <th>App Name</th>\n",
       "      <th>App Id</th>\n",
       "      <th>Category</th>\n",
       "      <th>Rating</th>\n",
       "      <th>Rating Count</th>\n",
       "      <th>Installs</th>\n",
       "      <th>Minimum Installs</th>\n",
       "      <th>Maximum Installs</th>\n",
       "      <th>Free</th>\n",
       "      <th>Price</th>\n",
       "      <th>Currency</th>\n",
       "      <th>Size</th>\n",
       "      <th>Minimum Android</th>\n",
       "      <th>Released</th>\n",
       "      <th>Last Updated</th>\n",
       "      <th>Content Rating</th>\n",
       "      <th>Ad Supported</th>\n",
       "      <th>In App Purchases</th>\n",
       "      <th>Editors Choice</th>\n",
       "      <th>Size Approximate</th>\n",
       "    </tr>\n",
       "  </thead>\n",
       "  <tbody>\n",
       "    <tr>\n",
       "      <th>0</th>\n",
       "      <td>Gakondo</td>\n",
       "      <td>com.ishakwe.gakondo</td>\n",
       "      <td>Adventure</td>\n",
       "      <td>0.0</td>\n",
       "      <td>0.0</td>\n",
       "      <td>10+</td>\n",
       "      <td>10.0</td>\n",
       "      <td>15</td>\n",
       "      <td>True</td>\n",
       "      <td>0.0</td>\n",
       "      <td>USD</td>\n",
       "      <td>10M</td>\n",
       "      <td>7.1 and up</td>\n",
       "      <td>Feb 26, 2020</td>\n",
       "      <td>Feb 26, 2020</td>\n",
       "      <td>Everyone</td>\n",
       "      <td>False</td>\n",
       "      <td>False</td>\n",
       "      <td>False</td>\n",
       "      <td>&lt;NA&gt;</td>\n",
       "    </tr>\n",
       "    <tr>\n",
       "      <th>1</th>\n",
       "      <td>Ampere Battery Info</td>\n",
       "      <td>com.webserveis.batteryinfo</td>\n",
       "      <td>Tools</td>\n",
       "      <td>4.4</td>\n",
       "      <td>64.0</td>\n",
       "      <td>5,000+</td>\n",
       "      <td>5000.0</td>\n",
       "      <td>7662</td>\n",
       "      <td>True</td>\n",
       "      <td>0.0</td>\n",
       "      <td>USD</td>\n",
       "      <td>2.9M</td>\n",
       "      <td>5.0 and up</td>\n",
       "      <td>May 21, 2020</td>\n",
       "      <td>May 06, 2021</td>\n",
       "      <td>Everyone</td>\n",
       "      <td>True</td>\n",
       "      <td>False</td>\n",
       "      <td>False</td>\n",
       "      <td>&lt;NA&gt;</td>\n",
       "    </tr>\n",
       "    <tr>\n",
       "      <th>2</th>\n",
       "      <td>Vibook</td>\n",
       "      <td>com.doantiepvien.crm</td>\n",
       "      <td>Productivity</td>\n",
       "      <td>0.0</td>\n",
       "      <td>0.0</td>\n",
       "      <td>50+</td>\n",
       "      <td>50.0</td>\n",
       "      <td>58</td>\n",
       "      <td>True</td>\n",
       "      <td>0.0</td>\n",
       "      <td>USD</td>\n",
       "      <td>3.7M</td>\n",
       "      <td>4.0.3 and up</td>\n",
       "      <td>Aug 9, 2019</td>\n",
       "      <td>Aug 19, 2019</td>\n",
       "      <td>Everyone</td>\n",
       "      <td>False</td>\n",
       "      <td>False</td>\n",
       "      <td>False</td>\n",
       "      <td>&lt;NA&gt;</td>\n",
       "    </tr>\n",
       "  </tbody>\n",
       "</table>\n",
       "</div>"
      ],
      "text/plain": [
       "              App Name                      App Id      Category  Rating  \\\n",
       "0              Gakondo         com.ishakwe.gakondo     Adventure     0.0   \n",
       "1  Ampere Battery Info  com.webserveis.batteryinfo         Tools     4.4   \n",
       "2               Vibook        com.doantiepvien.crm  Productivity     0.0   \n",
       "\n",
       "   Rating Count Installs  Minimum Installs  Maximum Installs  Free  Price  \\\n",
       "0           0.0      10+              10.0                15  True    0.0   \n",
       "1          64.0   5,000+            5000.0              7662  True    0.0   \n",
       "2           0.0      50+              50.0                58  True    0.0   \n",
       "\n",
       "  Currency  Size Minimum Android      Released  Last Updated Content Rating  \\\n",
       "0      USD   10M      7.1 and up  Feb 26, 2020  Feb 26, 2020       Everyone   \n",
       "1      USD  2.9M      5.0 and up  May 21, 2020  May 06, 2021       Everyone   \n",
       "2      USD  3.7M    4.0.3 and up   Aug 9, 2019  Aug 19, 2019       Everyone   \n",
       "\n",
       "   Ad Supported  In App Purchases  Editors Choice Size Approximate  \n",
       "0         False             False           False             <NA>  \n",
       "1          True             False           False             <NA>  \n",
       "2         False             False           False             <NA>  "
      ]
     },
     "execution_count": 13,
     "metadata": {},
     "output_type": "execute_result"
    }
   ],
   "source": [
    "df['Size Approximate'] = pd.NA\n",
    "df.head(3)"
   ]
  },
  {
   "cell_type": "code",
   "execution_count": 14,
   "metadata": {},
   "outputs": [
    {
     "data": {
      "text/plain": [
       "array(['10M', '2.9M', '3.7M', ..., '405M', '3.2k', '512M'], dtype=object)"
      ]
     },
     "execution_count": 14,
     "metadata": {},
     "output_type": "execute_result"
    }
   ],
   "source": [
    "df['Size'].unique()"
   ]
  },
  {
   "cell_type": "code",
   "execution_count": 15,
   "metadata": {},
   "outputs": [],
   "source": [
    "df.loc[:,'Size'] = df['Size'].str.lower()"
   ]
  },
  {
   "cell_type": "code",
   "execution_count": 16,
   "metadata": {},
   "outputs": [],
   "source": [
    "def size_to_number(s:pd.Series) -> pd.Series:\n",
    "    if s['Size'].startswith('varies with device'):\n",
    "        s['Size Approximate'] = 0 # for consistence\n",
    "    else:\n",
    "        unit = KB if s['Size'].endswith('k') else MB if s['Size'].endswith('m') else GB if s['Size'].endswith('g') else False\n",
    "        if unit:\n",
    "            n = ''.join(s['Size'][:-1].split(','))\n",
    "            s['Size Approximate'] = int(unit * float(n))\n",
    "    return s"
   ]
  },
  {
   "cell_type": "code",
   "execution_count": 17,
   "metadata": {},
   "outputs": [],
   "source": [
    "df_size_to_float = df.apply(axis=1,func=size_to_number)"
   ]
  },
  {
   "cell_type": "code",
   "execution_count": 18,
   "metadata": {},
   "outputs": [
    {
     "name": "stdout",
     "output_type": "stream",
     "text": [
      "<class 'pandas.core.frame.DataFrame'>\n",
      "RangeIndex: 2290061 entries, 0 to 2290060\n",
      "Data columns (total 2 columns):\n",
      " #   Column            Dtype \n",
      "---  ------            ----- \n",
      " 0   Size              object\n",
      " 1   Size Approximate  int64 \n",
      "dtypes: int64(1), object(1)\n",
      "memory usage: 34.9+ MB\n"
     ]
    }
   ],
   "source": [
    "test = df_size_to_float[['Size','Size Approximate']]\n",
    "test.info()"
   ]
  },
  {
   "cell_type": "code",
   "execution_count": 19,
   "metadata": {},
   "outputs": [
    {
     "data": {
      "text/plain": [
       "array([ 10485760,   3040870,   3879731, ..., 424673280,      3276,\n",
       "       536870912], dtype=int64)"
      ]
     },
     "execution_count": 19,
     "metadata": {},
     "output_type": "execute_result"
    }
   ],
   "source": [
    "test['Size Approximate'].unique()"
   ]
  },
  {
   "cell_type": "code",
   "execution_count": 20,
   "metadata": {},
   "outputs": [
    {
     "data": {
      "text/html": [
       "<div>\n",
       "<style scoped>\n",
       "    .dataframe tbody tr th:only-of-type {\n",
       "        vertical-align: middle;\n",
       "    }\n",
       "\n",
       "    .dataframe tbody tr th {\n",
       "        vertical-align: top;\n",
       "    }\n",
       "\n",
       "    .dataframe thead th {\n",
       "        text-align: right;\n",
       "    }\n",
       "</style>\n",
       "<table border=\"1\" class=\"dataframe\">\n",
       "  <thead>\n",
       "    <tr style=\"text-align: right;\">\n",
       "      <th></th>\n",
       "      <th>Size</th>\n",
       "      <th>Size Approximate</th>\n",
       "    </tr>\n",
       "  </thead>\n",
       "  <tbody>\n",
       "  </tbody>\n",
       "</table>\n",
       "</div>"
      ],
      "text/plain": [
       "Empty DataFrame\n",
       "Columns: [Size, Size Approximate]\n",
       "Index: []"
      ]
     },
     "execution_count": 20,
     "metadata": {},
     "output_type": "execute_result"
    }
   ],
   "source": [
    "test[test['Size Approximate'].isna()]"
   ]
  },
  {
   "cell_type": "code",
   "execution_count": 22,
   "metadata": {},
   "outputs": [
    {
     "data": {
      "text/plain": [
       "1610612736"
      ]
     },
     "execution_count": 22,
     "metadata": {},
     "output_type": "execute_result"
    }
   ],
   "source": [
    "test['Size Approximate'].max()"
   ]
  },
  {
   "cell_type": "code",
   "execution_count": 23,
   "metadata": {},
   "outputs": [
    {
     "data": {
      "text/plain": [
       "Size                53048\n",
       "Size Approximate    53048\n",
       "dtype: int64"
      ]
     },
     "execution_count": 23,
     "metadata": {},
     "output_type": "execute_result"
    }
   ],
   "source": [
    "test[test['Size Approximate'] == 0].count()"
   ]
  },
  {
   "cell_type": "code",
   "execution_count": 24,
   "metadata": {},
   "outputs": [
    {
     "name": "stdout",
     "output_type": "stream",
     "text": [
      "10\n",
      "9\n"
     ]
    }
   ],
   "source": [
    "test['Size Approximate'].max()\n",
    "\n",
    "# 1MB, 5MB, 50MB, 100MB, 200MB, 500MB, 1GB, 2GB, MORE THAN 2GB\n",
    "bins = [\n",
    "    -1,\n",
    "    0,\n",
    "    1*MB,\n",
    "    5*MB,\n",
    "    25*MB,\n",
    "    50*MB,\n",
    "    100*MB,\n",
    "    200*MB,\n",
    "    500*MB,\n",
    "    1*GB,\n",
    "    GB*GB\n",
    "    ]\n",
    "\n",
    "labels = [\n",
    "    'Varies with device',\n",
    "    '<= 1MB',\n",
    "    '<= 5MB',\n",
    "    '<= 25MB',\n",
    "    '<= 50MB',\n",
    "    '<= 100MB',\n",
    "    '<= 200MB',\n",
    "    '<= 500MB',\n",
    "    '<= 1GB', \n",
    "    '> 1GB'\n",
    "    ]\n",
    "\n",
    "print(bins.__len__())\n",
    "print(labels.__len__())"
   ]
  },
  {
   "cell_type": "code",
   "execution_count": 34,
   "metadata": {},
   "outputs": [],
   "source": [
    "size_in_bin = pd.cut(test['Size Approximate'],bins=bins,labels=labels)\n",
    "size_in_bin.name = 'Size Bin'\n",
    "\n",
    "df_size_bind = pd.concat(objs=[df_size_to_float,size_in_bin],axis=1)"
   ]
  },
  {
   "cell_type": "code",
   "execution_count": 26,
   "metadata": {},
   "outputs": [
    {
     "data": {
      "text/plain": [
       "array(['Adventure', 'Tools', 'Productivity', 'Communication', 'Social',\n",
       "       'Libraries & Demo', 'Lifestyle', 'Personalization', 'Racing',\n",
       "       'Maps & Navigation', 'Travel & Local', 'Food & Drink',\n",
       "       'Books & Reference', 'Medical', 'Puzzle', 'Entertainment',\n",
       "       'Arcade', 'Auto & Vehicles', 'Photography', 'Health & Fitness',\n",
       "       'Education', 'Shopping', 'Board', 'Music & Audio', 'Sports',\n",
       "       'Beauty', 'Business', 'Educational', 'Finance', 'News & Magazines',\n",
       "       'Casual', 'Art & Design', 'House & Home', 'Card', 'Events',\n",
       "       'Trivia', 'Weather', 'Strategy', 'Word', 'Video Players & Editors',\n",
       "       'Action', 'Simulation', 'Music', 'Dating', 'Role Playing',\n",
       "       'Casino', 'Comics', 'Parenting'], dtype=object)"
      ]
     },
     "execution_count": 26,
     "metadata": {},
     "output_type": "execute_result"
    }
   ],
   "source": [
    "df['Category'].unique()"
   ]
  },
  {
   "cell_type": "markdown",
   "metadata": {},
   "source": [
    "Game - Adventure, Racing, Puzzle, Arcade, Strategy, Action, Simulation\n",
    "Tools - Tools, Productivity"
   ]
  },
  {
   "cell_type": "code",
   "execution_count": 32,
   "metadata": {},
   "outputs": [
    {
     "data": {
      "text/plain": [
       "49                       Bowling Paradise Pro FREE\n",
       "50                             ACtrainingLanzarote\n",
       "93                               Pocket Bowling 3D\n",
       "131                                        VfL1910\n",
       "137                        Clube Atlético Ypiranga\n",
       "                            ...                   \n",
       "2289934    Dunk Basket : Basketball Dunk Hoop Game\n",
       "2289944                    Spotlight Dance Academy\n",
       "2289952                           H.K Golf Manager\n",
       "2289955                                  La Molina\n",
       "2290044                      Gear Ratio Calculator\n",
       "Name: App Name, Length: 47052, dtype: object"
      ]
     },
     "execution_count": 32,
     "metadata": {},
     "output_type": "execute_result"
    }
   ],
   "source": [
    "df[df['Category'].str.match('Sports')]['App Name']"
   ]
  },
  {
   "cell_type": "code",
   "execution_count": 35,
   "metadata": {},
   "outputs": [
    {
     "data": {
      "text/plain": [
       "<= 25MB     1117549\n",
       "<= 5MB       539237\n",
       "<= 50MB      345589\n",
       "<= 100MB     168282\n",
       "<= 1MB        38551\n",
       "<= 200MB      26115\n",
       "<= 500MB       1553\n",
       "<= 1GB          127\n",
       "> 1GB            10\n",
       "Name: Size Bin, dtype: int64"
      ]
     },
     "execution_count": 35,
     "metadata": {},
     "output_type": "execute_result"
    }
   ],
   "source": [
    "df_size_bind['Size Bin'].value_counts()"
   ]
  },
  {
   "cell_type": "code",
   "execution_count": 36,
   "metadata": {},
   "outputs": [
    {
     "data": {
      "text/html": [
       "<div>\n",
       "<style scoped>\n",
       "    .dataframe tbody tr th:only-of-type {\n",
       "        vertical-align: middle;\n",
       "    }\n",
       "\n",
       "    .dataframe tbody tr th {\n",
       "        vertical-align: top;\n",
       "    }\n",
       "\n",
       "    .dataframe thead th {\n",
       "        text-align: right;\n",
       "    }\n",
       "</style>\n",
       "<table border=\"1\" class=\"dataframe\">\n",
       "  <thead>\n",
       "    <tr style=\"text-align: right;\">\n",
       "      <th></th>\n",
       "      <th>App Name</th>\n",
       "      <th>App Id</th>\n",
       "      <th>Category</th>\n",
       "      <th>Rating</th>\n",
       "      <th>Rating Count</th>\n",
       "      <th>Installs</th>\n",
       "      <th>Minimum Installs</th>\n",
       "      <th>Maximum Installs</th>\n",
       "      <th>Free</th>\n",
       "      <th>Price</th>\n",
       "      <th>...</th>\n",
       "      <th>Size</th>\n",
       "      <th>Minimum Android</th>\n",
       "      <th>Released</th>\n",
       "      <th>Last Updated</th>\n",
       "      <th>Content Rating</th>\n",
       "      <th>Ad Supported</th>\n",
       "      <th>In App Purchases</th>\n",
       "      <th>Editors Choice</th>\n",
       "      <th>Size Approximate</th>\n",
       "      <th>Size Bin</th>\n",
       "    </tr>\n",
       "  </thead>\n",
       "  <tbody>\n",
       "    <tr>\n",
       "      <th>0</th>\n",
       "      <td>Gakondo</td>\n",
       "      <td>com.ishakwe.gakondo</td>\n",
       "      <td>Adventure</td>\n",
       "      <td>0.0</td>\n",
       "      <td>0.0</td>\n",
       "      <td>10+</td>\n",
       "      <td>10.0</td>\n",
       "      <td>15</td>\n",
       "      <td>True</td>\n",
       "      <td>0.0</td>\n",
       "      <td>...</td>\n",
       "      <td>10m</td>\n",
       "      <td>7.1 and up</td>\n",
       "      <td>Feb 26, 2020</td>\n",
       "      <td>Feb 26, 2020</td>\n",
       "      <td>Everyone</td>\n",
       "      <td>False</td>\n",
       "      <td>False</td>\n",
       "      <td>False</td>\n",
       "      <td>10485760</td>\n",
       "      <td>&lt;= 25MB</td>\n",
       "    </tr>\n",
       "    <tr>\n",
       "      <th>1</th>\n",
       "      <td>Ampere Battery Info</td>\n",
       "      <td>com.webserveis.batteryinfo</td>\n",
       "      <td>Tools</td>\n",
       "      <td>4.4</td>\n",
       "      <td>64.0</td>\n",
       "      <td>5,000+</td>\n",
       "      <td>5000.0</td>\n",
       "      <td>7662</td>\n",
       "      <td>True</td>\n",
       "      <td>0.0</td>\n",
       "      <td>...</td>\n",
       "      <td>2.9m</td>\n",
       "      <td>5.0 and up</td>\n",
       "      <td>May 21, 2020</td>\n",
       "      <td>May 06, 2021</td>\n",
       "      <td>Everyone</td>\n",
       "      <td>True</td>\n",
       "      <td>False</td>\n",
       "      <td>False</td>\n",
       "      <td>3040870</td>\n",
       "      <td>&lt;= 5MB</td>\n",
       "    </tr>\n",
       "    <tr>\n",
       "      <th>2</th>\n",
       "      <td>Vibook</td>\n",
       "      <td>com.doantiepvien.crm</td>\n",
       "      <td>Productivity</td>\n",
       "      <td>0.0</td>\n",
       "      <td>0.0</td>\n",
       "      <td>50+</td>\n",
       "      <td>50.0</td>\n",
       "      <td>58</td>\n",
       "      <td>True</td>\n",
       "      <td>0.0</td>\n",
       "      <td>...</td>\n",
       "      <td>3.7m</td>\n",
       "      <td>4.0.3 and up</td>\n",
       "      <td>Aug 9, 2019</td>\n",
       "      <td>Aug 19, 2019</td>\n",
       "      <td>Everyone</td>\n",
       "      <td>False</td>\n",
       "      <td>False</td>\n",
       "      <td>False</td>\n",
       "      <td>3879731</td>\n",
       "      <td>&lt;= 5MB</td>\n",
       "    </tr>\n",
       "    <tr>\n",
       "      <th>3</th>\n",
       "      <td>Smart City Trichy Public Service Vehicles 17UC...</td>\n",
       "      <td>cst.stJoseph.ug17ucs548</td>\n",
       "      <td>Communication</td>\n",
       "      <td>5.0</td>\n",
       "      <td>5.0</td>\n",
       "      <td>10+</td>\n",
       "      <td>10.0</td>\n",
       "      <td>19</td>\n",
       "      <td>True</td>\n",
       "      <td>0.0</td>\n",
       "      <td>...</td>\n",
       "      <td>1.8m</td>\n",
       "      <td>4.0.3 and up</td>\n",
       "      <td>Sep 10, 2018</td>\n",
       "      <td>Oct 13, 2018</td>\n",
       "      <td>Everyone</td>\n",
       "      <td>True</td>\n",
       "      <td>False</td>\n",
       "      <td>False</td>\n",
       "      <td>1887436</td>\n",
       "      <td>&lt;= 5MB</td>\n",
       "    </tr>\n",
       "    <tr>\n",
       "      <th>4</th>\n",
       "      <td>GROW.me</td>\n",
       "      <td>com.horodyski.grower</td>\n",
       "      <td>Tools</td>\n",
       "      <td>0.0</td>\n",
       "      <td>0.0</td>\n",
       "      <td>100+</td>\n",
       "      <td>100.0</td>\n",
       "      <td>478</td>\n",
       "      <td>True</td>\n",
       "      <td>0.0</td>\n",
       "      <td>...</td>\n",
       "      <td>6.2m</td>\n",
       "      <td>4.1 and up</td>\n",
       "      <td>Feb 21, 2020</td>\n",
       "      <td>Nov 12, 2018</td>\n",
       "      <td>Everyone</td>\n",
       "      <td>False</td>\n",
       "      <td>False</td>\n",
       "      <td>False</td>\n",
       "      <td>6501171</td>\n",
       "      <td>&lt;= 25MB</td>\n",
       "    </tr>\n",
       "    <tr>\n",
       "      <th>...</th>\n",
       "      <td>...</td>\n",
       "      <td>...</td>\n",
       "      <td>...</td>\n",
       "      <td>...</td>\n",
       "      <td>...</td>\n",
       "      <td>...</td>\n",
       "      <td>...</td>\n",
       "      <td>...</td>\n",
       "      <td>...</td>\n",
       "      <td>...</td>\n",
       "      <td>...</td>\n",
       "      <td>...</td>\n",
       "      <td>...</td>\n",
       "      <td>...</td>\n",
       "      <td>...</td>\n",
       "      <td>...</td>\n",
       "      <td>...</td>\n",
       "      <td>...</td>\n",
       "      <td>...</td>\n",
       "      <td>...</td>\n",
       "      <td>...</td>\n",
       "    </tr>\n",
       "    <tr>\n",
       "      <th>2290056</th>\n",
       "      <td>大俠客—熱血歸來</td>\n",
       "      <td>com.rxsj.ssjj</td>\n",
       "      <td>Role Playing</td>\n",
       "      <td>4.3</td>\n",
       "      <td>16775.0</td>\n",
       "      <td>100,000+</td>\n",
       "      <td>100000.0</td>\n",
       "      <td>337109</td>\n",
       "      <td>True</td>\n",
       "      <td>0.0</td>\n",
       "      <td>...</td>\n",
       "      <td>77m</td>\n",
       "      <td>4.1 and up</td>\n",
       "      <td>NaN</td>\n",
       "      <td>Jun 01, 2021</td>\n",
       "      <td>Teen</td>\n",
       "      <td>False</td>\n",
       "      <td>False</td>\n",
       "      <td>False</td>\n",
       "      <td>80740352</td>\n",
       "      <td>&lt;= 100MB</td>\n",
       "    </tr>\n",
       "    <tr>\n",
       "      <th>2290057</th>\n",
       "      <td>ORU Online</td>\n",
       "      <td>com.threedream.oruonline</td>\n",
       "      <td>Education</td>\n",
       "      <td>0.0</td>\n",
       "      <td>0.0</td>\n",
       "      <td>100+</td>\n",
       "      <td>100.0</td>\n",
       "      <td>430</td>\n",
       "      <td>True</td>\n",
       "      <td>0.0</td>\n",
       "      <td>...</td>\n",
       "      <td>44m</td>\n",
       "      <td>4.1 and up</td>\n",
       "      <td>Jan 17, 2018</td>\n",
       "      <td>Feb 02, 2018</td>\n",
       "      <td>Everyone</td>\n",
       "      <td>False</td>\n",
       "      <td>False</td>\n",
       "      <td>False</td>\n",
       "      <td>46137344</td>\n",
       "      <td>&lt;= 50MB</td>\n",
       "    </tr>\n",
       "    <tr>\n",
       "      <th>2290058</th>\n",
       "      <td>Data Structure</td>\n",
       "      <td>datastructure.appoworld.datastucture</td>\n",
       "      <td>Education</td>\n",
       "      <td>0.0</td>\n",
       "      <td>0.0</td>\n",
       "      <td>100+</td>\n",
       "      <td>100.0</td>\n",
       "      <td>202</td>\n",
       "      <td>True</td>\n",
       "      <td>0.0</td>\n",
       "      <td>...</td>\n",
       "      <td>29m</td>\n",
       "      <td>5.0 and up</td>\n",
       "      <td>Aug 19, 2018</td>\n",
       "      <td>Aug 19, 2018</td>\n",
       "      <td>Everyone</td>\n",
       "      <td>False</td>\n",
       "      <td>False</td>\n",
       "      <td>False</td>\n",
       "      <td>30408704</td>\n",
       "      <td>&lt;= 50MB</td>\n",
       "    </tr>\n",
       "    <tr>\n",
       "      <th>2290059</th>\n",
       "      <td>Devi Suktam</td>\n",
       "      <td>ishan.devi.suktam</td>\n",
       "      <td>Music &amp; Audio</td>\n",
       "      <td>3.5</td>\n",
       "      <td>8.0</td>\n",
       "      <td>1,000+</td>\n",
       "      <td>1000.0</td>\n",
       "      <td>2635</td>\n",
       "      <td>True</td>\n",
       "      <td>0.0</td>\n",
       "      <td>...</td>\n",
       "      <td>10m</td>\n",
       "      <td>5.0 and up</td>\n",
       "      <td>Aug 1, 2016</td>\n",
       "      <td>May 05, 2021</td>\n",
       "      <td>Everyone</td>\n",
       "      <td>True</td>\n",
       "      <td>False</td>\n",
       "      <td>False</td>\n",
       "      <td>10485760</td>\n",
       "      <td>&lt;= 25MB</td>\n",
       "    </tr>\n",
       "    <tr>\n",
       "      <th>2290060</th>\n",
       "      <td>Biliyor Musun - Sonsuz Yarış</td>\n",
       "      <td>com.yyazilim.biliyormusun</td>\n",
       "      <td>Trivia</td>\n",
       "      <td>5.0</td>\n",
       "      <td>12.0</td>\n",
       "      <td>100+</td>\n",
       "      <td>100.0</td>\n",
       "      <td>354</td>\n",
       "      <td>True</td>\n",
       "      <td>0.0</td>\n",
       "      <td>...</td>\n",
       "      <td>5.2m</td>\n",
       "      <td>5.0 and up</td>\n",
       "      <td>Aug 9, 2019</td>\n",
       "      <td>Aug 19, 2019</td>\n",
       "      <td>Everyone</td>\n",
       "      <td>True</td>\n",
       "      <td>False</td>\n",
       "      <td>False</td>\n",
       "      <td>5452595</td>\n",
       "      <td>&lt;= 25MB</td>\n",
       "    </tr>\n",
       "  </tbody>\n",
       "</table>\n",
       "<p>2290061 rows × 21 columns</p>\n",
       "</div>"
      ],
      "text/plain": [
       "                                                  App Name  \\\n",
       "0                                                  Gakondo   \n",
       "1                                      Ampere Battery Info   \n",
       "2                                                   Vibook   \n",
       "3        Smart City Trichy Public Service Vehicles 17UC...   \n",
       "4                                                  GROW.me   \n",
       "...                                                    ...   \n",
       "2290056                                           大俠客—熱血歸來   \n",
       "2290057                                         ORU Online   \n",
       "2290058                                     Data Structure   \n",
       "2290059                                        Devi Suktam   \n",
       "2290060                       Biliyor Musun - Sonsuz Yarış   \n",
       "\n",
       "                                       App Id       Category  Rating  \\\n",
       "0                         com.ishakwe.gakondo      Adventure     0.0   \n",
       "1                  com.webserveis.batteryinfo          Tools     4.4   \n",
       "2                        com.doantiepvien.crm   Productivity     0.0   \n",
       "3                     cst.stJoseph.ug17ucs548  Communication     5.0   \n",
       "4                        com.horodyski.grower          Tools     0.0   \n",
       "...                                       ...            ...     ...   \n",
       "2290056                         com.rxsj.ssjj   Role Playing     4.3   \n",
       "2290057              com.threedream.oruonline      Education     0.0   \n",
       "2290058  datastructure.appoworld.datastucture      Education     0.0   \n",
       "2290059                     ishan.devi.suktam  Music & Audio     3.5   \n",
       "2290060             com.yyazilim.biliyormusun         Trivia     5.0   \n",
       "\n",
       "         Rating Count  Installs  Minimum Installs  Maximum Installs  Free  \\\n",
       "0                 0.0       10+              10.0                15  True   \n",
       "1                64.0    5,000+            5000.0              7662  True   \n",
       "2                 0.0       50+              50.0                58  True   \n",
       "3                 5.0       10+              10.0                19  True   \n",
       "4                 0.0      100+             100.0               478  True   \n",
       "...               ...       ...               ...               ...   ...   \n",
       "2290056       16775.0  100,000+          100000.0            337109  True   \n",
       "2290057           0.0      100+             100.0               430  True   \n",
       "2290058           0.0      100+             100.0               202  True   \n",
       "2290059           8.0    1,000+            1000.0              2635  True   \n",
       "2290060          12.0      100+             100.0               354  True   \n",
       "\n",
       "         Price  ...  Size Minimum Android      Released  Last Updated  \\\n",
       "0          0.0  ...   10m      7.1 and up  Feb 26, 2020  Feb 26, 2020   \n",
       "1          0.0  ...  2.9m      5.0 and up  May 21, 2020  May 06, 2021   \n",
       "2          0.0  ...  3.7m    4.0.3 and up   Aug 9, 2019  Aug 19, 2019   \n",
       "3          0.0  ...  1.8m    4.0.3 and up  Sep 10, 2018  Oct 13, 2018   \n",
       "4          0.0  ...  6.2m      4.1 and up  Feb 21, 2020  Nov 12, 2018   \n",
       "...        ...  ...   ...             ...           ...           ...   \n",
       "2290056    0.0  ...   77m      4.1 and up           NaN  Jun 01, 2021   \n",
       "2290057    0.0  ...   44m      4.1 and up  Jan 17, 2018  Feb 02, 2018   \n",
       "2290058    0.0  ...   29m      5.0 and up  Aug 19, 2018  Aug 19, 2018   \n",
       "2290059    0.0  ...   10m      5.0 and up   Aug 1, 2016  May 05, 2021   \n",
       "2290060    0.0  ...  5.2m      5.0 and up   Aug 9, 2019  Aug 19, 2019   \n",
       "\n",
       "        Content Rating Ad Supported  In App Purchases  Editors Choice  \\\n",
       "0             Everyone        False             False           False   \n",
       "1             Everyone         True             False           False   \n",
       "2             Everyone        False             False           False   \n",
       "3             Everyone         True             False           False   \n",
       "4             Everyone        False             False           False   \n",
       "...                ...          ...               ...             ...   \n",
       "2290056           Teen        False             False           False   \n",
       "2290057       Everyone        False             False           False   \n",
       "2290058       Everyone        False             False           False   \n",
       "2290059       Everyone         True             False           False   \n",
       "2290060       Everyone         True             False           False   \n",
       "\n",
       "         Size Approximate  Size Bin  \n",
       "0                10485760   <= 25MB  \n",
       "1                 3040870    <= 5MB  \n",
       "2                 3879731    <= 5MB  \n",
       "3                 1887436    <= 5MB  \n",
       "4                 6501171   <= 25MB  \n",
       "...                   ...       ...  \n",
       "2290056          80740352  <= 100MB  \n",
       "2290057          46137344   <= 50MB  \n",
       "2290058          30408704   <= 50MB  \n",
       "2290059          10485760   <= 25MB  \n",
       "2290060           5452595   <= 25MB  \n",
       "\n",
       "[2290061 rows x 21 columns]"
      ]
     },
     "execution_count": 36,
     "metadata": {},
     "output_type": "execute_result"
    }
   ],
   "source": [
    "df_size_bind"
   ]
  },
  {
   "cell_type": "code",
   "execution_count": 37,
   "metadata": {},
   "outputs": [
    {
     "name": "stdout",
     "output_type": "stream",
     "text": [
      "<class 'pandas.core.frame.DataFrame'>\n",
      "RangeIndex: 2290061 entries, 0 to 2290060\n",
      "Data columns (total 21 columns):\n",
      " #   Column            Dtype   \n",
      "---  ------            -----   \n",
      " 0   App Name          object  \n",
      " 1   App Id            object  \n",
      " 2   Category          object  \n",
      " 3   Rating            float64 \n",
      " 4   Rating Count      float64 \n",
      " 5   Installs          object  \n",
      " 6   Minimum Installs  float64 \n",
      " 7   Maximum Installs  int64   \n",
      " 8   Free              bool    \n",
      " 9   Price             float64 \n",
      " 10  Currency          object  \n",
      " 11  Size              object  \n",
      " 12  Minimum Android   object  \n",
      " 13  Released          object  \n",
      " 14  Last Updated      object  \n",
      " 15  Content Rating    object  \n",
      " 16  Ad Supported      bool    \n",
      " 17  In App Purchases  bool    \n",
      " 18  Editors Choice    bool    \n",
      " 19  Size Approximate  int64   \n",
      " 20  Size Bin          category\n",
      "dtypes: bool(4), category(1), float64(4), int64(2), object(10)\n",
      "memory usage: 290.5+ MB\n"
     ]
    }
   ],
   "source": [
    "df_size_bind.info()\n",
    "df_size_bind.dropna()"
   ]
  },
  {
   "cell_type": "code",
   "execution_count": 38,
   "metadata": {},
   "outputs": [],
   "source": [
    "df_size_bind.to_csv(get_processing_folder_path('processed_temp.csv'),index=False)"
   ]
  },
  {
   "cell_type": "code",
   "execution_count": 39,
   "metadata": {},
   "outputs": [
    {
     "data": {
      "text/plain": [
       "App Name                0\n",
       "App Id                  0\n",
       "Category                0\n",
       "Rating                  0\n",
       "Rating Count            0\n",
       "Installs                0\n",
       "Minimum Installs        0\n",
       "Maximum Installs        0\n",
       "Free                    0\n",
       "Price                   0\n",
       "Currency               20\n",
       "Size                    0\n",
       "Minimum Android      6526\n",
       "Released            48378\n",
       "Last Updated            0\n",
       "Content Rating          0\n",
       "Ad Supported            0\n",
       "In App Purchases        0\n",
       "Editors Choice          0\n",
       "Size Approximate        0\n",
       "Size Bin            53048\n",
       "dtype: int64"
      ]
     },
     "execution_count": 39,
     "metadata": {},
     "output_type": "execute_result"
    }
   ],
   "source": [
    "df_size_bind.isna().sum()"
   ]
  }
 ],
 "metadata": {
  "interpreter": {
   "hash": "ada5136131ab2046f41ca7eeac386df745c17b6199ee66d16b57632fcc2ab4f3"
  },
  "kernelspec": {
   "display_name": "Python 3.9.12 ('sp')",
   "language": "python",
   "name": "python3"
  },
  "language_info": {
   "codemirror_mode": {
    "name": "ipython",
    "version": 3
   },
   "file_extension": ".py",
   "mimetype": "text/x-python",
   "name": "python",
   "nbconvert_exporter": "python",
   "pygments_lexer": "ipython3",
   "version": "3.9.12"
  },
  "orig_nbformat": 4
 },
 "nbformat": 4,
 "nbformat_minor": 2
}
