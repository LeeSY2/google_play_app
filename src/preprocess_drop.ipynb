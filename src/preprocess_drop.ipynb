{
 "cells": [
  {
   "cell_type": "code",
   "execution_count": 1,
   "metadata": {},
   "outputs": [
    {
     "name": "stdout",
     "output_type": "stream",
     "text": [
      "All Required Installed\n"
     ]
    }
   ],
   "source": [
    "from lib import check_libs_installed\n",
    "\n",
    "check_libs_installed()"
   ]
  },
  {
   "cell_type": "code",
   "execution_count": 2,
   "metadata": {},
   "outputs": [],
   "source": [
    "import pandas as pd\n",
    "import numpy as np\n",
    "import matplotlib.pyplot as plt\n",
    "import seaborn as sns\n",
    "\n",
    "from lib import get_file_path"
   ]
  },
  {
   "cell_type": "code",
   "execution_count": 3,
   "metadata": {},
   "outputs": [],
   "source": [
    "df = pd.read_csv(get_file_path('Google-Playstore.csv'))"
   ]
  },
  {
   "cell_type": "code",
   "execution_count": 4,
   "metadata": {},
   "outputs": [],
   "source": [
    "from datetime import timedelta\n",
    "scraped_date = pd.to_datetime(df['Scraped Time'].max())\n",
    "date_range = [scraped_date.date(),scraped_date.date() - timedelta(days=182)] # approximate"
   ]
  },
  {
   "cell_type": "code",
   "execution_count": 5,
   "metadata": {},
   "outputs": [],
   "source": [
    "# drop columns\n",
    "\n",
    "# Scraped Time, Privacy Policy, Developer Email, Developer Website, Developer Id\n",
    "# Rating and Rating Count is 0 은 남기고\n",
    "# Released, Currency, Minimum Android\n"
   ]
  },
  {
   "cell_type": "code",
   "execution_count": 6,
   "metadata": {},
   "outputs": [
    {
     "data": {
      "text/plain": [
       "True"
      ]
     },
     "execution_count": 6,
     "metadata": {},
     "output_type": "execute_result"
    }
   ],
   "source": [
    "dropped.columns.isin(removed).sum() == 0"
   ]
  }
 ],
 "metadata": {
  "interpreter": {
   "hash": "ada5136131ab2046f41ca7eeac386df745c17b6199ee66d16b57632fcc2ab4f3"
  },
  "kernelspec": {
   "display_name": "Python 3.9.12 ('sp')",
   "language": "python",
   "name": "python3"
  },
  "language_info": {
   "codemirror_mode": {
    "name": "ipython",
    "version": 3
   },
   "file_extension": ".py",
   "mimetype": "text/x-python",
   "name": "python",
   "nbconvert_exporter": "python",
   "pygments_lexer": "ipython3",
   "version": "3.9.12"
  },
  "orig_nbformat": 4
 },
 "nbformat": 4,
 "nbformat_minor": 2
}
