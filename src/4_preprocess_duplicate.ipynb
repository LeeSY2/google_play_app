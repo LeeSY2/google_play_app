{
 "cells": [
  {
   "cell_type": "code",
   "execution_count": 30,
   "metadata": {},
   "outputs": [],
   "source": [
    "import pandas as pd\n",
    "import numpy as npa\n",
    "from const import KB,MB,GB\n",
    "from lib import check_libs_installed, get_processing_folder_path"
   ]
  },
  {
   "cell_type": "code",
   "execution_count": 31,
   "metadata": {},
   "outputs": [],
   "source": [
    "df = pd.read_csv(get_processing_folder_path('processed_temp.csv'))"
   ]
  },
  {
   "cell_type": "code",
   "execution_count": 32,
   "metadata": {},
   "outputs": [
    {
     "data": {
      "text/plain": [
       "[1598518, 209813, 1303435, 1754662, 1444482]"
      ]
     },
     "execution_count": 32,
     "metadata": {},
     "output_type": "execute_result"
    }
   ],
   "source": [
    "target = df[['App Name','Rating Count']].sort_values(by=['App Name','Rating Count'],ascending=False)\n",
    "target = target.loc[target.duplicated(subset=['App Name'],keep=False)]\n",
    "target = target.loc[~target.duplicated(subset=['App Name'],keep='last')].index.tolist()\n",
    "target[:5]"
   ]
  },
  {
   "cell_type": "code",
   "execution_count": 33,
   "metadata": {},
   "outputs": [
    {
     "data": {
      "text/plain": [
       "App Name            65289\n",
       "App Id                  0\n",
       "Category                0\n",
       "Rating                  0\n",
       "Rating Count            0\n",
       "Installs                0\n",
       "Minimum Installs        0\n",
       "Maximum Installs        0\n",
       "Free                    0\n",
       "Price                   0\n",
       "Currency                0\n",
       "Size                    0\n",
       "Released                0\n",
       "Last Updated            0\n",
       "Content Rating          0\n",
       "Ad Supported            0\n",
       "In App Purchases        0\n",
       "Editors Choice          0\n",
       "Size Approximate        0\n",
       "Size Bin                0\n",
       "dtype: int64"
      ]
     },
     "execution_count": 33,
     "metadata": {},
     "output_type": "execute_result"
    }
   ],
   "source": [
    "df.loc[target,'App Name'] = pd.NA\n",
    "df.isna().sum()"
   ]
  },
  {
   "cell_type": "code",
   "execution_count": 35,
   "metadata": {},
   "outputs": [],
   "source": [
    "df.dropna(subset=['App Name'],inplace=True)\n",
    "df.to_csv(get_processing_folder_path('final.csv'),index=False)"
   ]
  },
  {
   "cell_type": "code",
   "execution_count": 36,
   "metadata": {},
   "outputs": [
    {
     "data": {
      "text/plain": [
       "App Name            0\n",
       "App Id              0\n",
       "Category            0\n",
       "Rating              0\n",
       "Rating Count        0\n",
       "Installs            0\n",
       "Minimum Installs    0\n",
       "Maximum Installs    0\n",
       "Free                0\n",
       "Price               0\n",
       "Currency            0\n",
       "Size                0\n",
       "Released            0\n",
       "Last Updated        0\n",
       "Content Rating      0\n",
       "Ad Supported        0\n",
       "In App Purchases    0\n",
       "Editors Choice      0\n",
       "Size Approximate    0\n",
       "Size Bin            0\n",
       "dtype: int64"
      ]
     },
     "execution_count": 36,
     "metadata": {},
     "output_type": "execute_result"
    }
   ],
   "source": [
    "df.isna().sum()"
   ]
  }
 ],
 "metadata": {
  "interpreter": {
   "hash": "ada5136131ab2046f41ca7eeac386df745c17b6199ee66d16b57632fcc2ab4f3"
  },
  "kernelspec": {
   "display_name": "Python 3.9.12 ('sp')",
   "language": "python",
   "name": "python3"
  },
  "language_info": {
   "codemirror_mode": {
    "name": "ipython",
    "version": 3
   },
   "file_extension": ".py",
   "mimetype": "text/x-python",
   "name": "python",
   "nbconvert_exporter": "python",
   "pygments_lexer": "ipython3",
   "version": "3.9.12"
  },
  "orig_nbformat": 4
 },
 "nbformat": 4,
 "nbformat_minor": 2
}
