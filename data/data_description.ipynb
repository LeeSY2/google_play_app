{
 "cells": [
  {
   "cell_type": "markdown",
   "metadata": {},
   "source": [
    "## 전처리 전 데이터에 대한 설명\n",
    "- 일부 데이터 타입이 기대한 값과 다를 수 있습니다.\n",
    "- 전처리 후 데이터 설명에 대한 추가 정리가 필요할 수 있습니다.\n",
    "\n",
    "\n",
    "|컬럼명|설명|타입|\n",
    "|---|---|---|\n",
    "|App Name|앱 이름|object|\n",
    "|App Id|애플리케이션 패키지 이름|object|\n",
    "|Category|애플리케이션 카테고리|object|\n",
    "|Rating|평균 평점|number|\n",
    "|Rating Count|평점 등록 갯수|number|\n",
    "|Installs|설치 횟수(근사치)|object|\n",
    "|Minimum Installs|애플리케이션 최소 설치 횟수(근사치)|object|\n",
    "|Maximum Installs|애플리케이션 최대 설치 횟수(근사치)|object|\n",
    "|Free|애플리케이션 유/무료 여부|boolean|\n",
    "|Price|애플리케이션 가격|number|\n",
    "|Currency|애플리케이션 화폐|object|\n",
    "|Size|애플리케이션 크기|object|\n",
    "|Minimum Android|지원하는 최소 안드로이드 버전|object|\n",
    "|Developer Id|구글 플레이스토어의 개발자 ID|object|\n",
    "|Developer Website|개발자의 웹사이트|object|\n",
    "|Developer Email|개발자의 이메일|object|\n",
    "|Released|애플리케이션의 구글 플레이스토어에 출시한 날짜|Date|\n",
    "|Last Updated |애플리케이션의 마지막 업데이트일|Date|\n",
    "|Content Rating|애플리케이션의 타겟층|object|\n",
    "|Privacy Policy|개발자로부터의 애플리케이션 정책|object|\n",
    "|Ad Supported|애플리케이션 광고 지원 여부|boolean|\n",
    "|In App Purchases|인 앱 구매 여부|boolean|\n",
    "|Editors Choice|편집자의 선택|boolean|\n",
    "|Scraped Time|GMT 기준 데이터를 가져온 시간|Date|\n",
    "\n",
    "\n",
    "\n",
    "### Content Rating에 대한 상세 정보\n",
    "|Rating|Description|\n",
    "|---|---|\n",
    "|EVERYONE|Content is generally suitable for all ages. May contain minimal cartoon, fantasy or mild violence and/or infrequent use of mild language.|\n",
    "|EVERYONE 10+|Content is generally suitable for ages 10 and up. May contain more cartoon, fantasy or mild violence, mild language and/or minimal suggestive themes.|\n",
    "|TEEN|Content is generally suitable for ages 13 and up. May contain violence, suggestive themes, crude humor, minimal blood, simulated gambling and/or infrequent use of strong language.|\n",
    "|MATURE|Content is generally suitable for ages 17 and up. May contain intense violence, blood and gore, sexual content and/or strong language.|\n",
    "|ADULTS ONLY|Content suitable only for adults ages 18 and up. May include prolonged scenes of intense violence, graphic sexual content and/or gambling with real currency.|"
   ]
  }
 ],
 "metadata": {
  "language_info": {
   "name": "python"
  },
  "orig_nbformat": 4
 },
 "nbformat": 4,
 "nbformat_minor": 2
}
